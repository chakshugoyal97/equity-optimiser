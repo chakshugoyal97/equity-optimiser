{
 "cells": [
  {
   "cell_type": "code",
   "execution_count": 1,
   "metadata": {},
   "outputs": [],
   "source": [
    "import numpy as np\n",
    "import pandas as pd\n",
    "from pathlib import Path\n",
    "import sys\n",
    "import os\n",
    "sys.path.append(os.path.abspath(\"..\"))  # Add project root to Python path\n",
    "from src.optimiser import EquityOptimiser\n",
    "from download_data import load_optimization_data\n",
    "import matplotlib.pyplot as plt"
   ]
  },
  {
   "cell_type": "code",
   "execution_count": 2,
   "metadata": {},
   "outputs": [],
   "source": [
    "%load_ext autoreload\n",
    "%autoreload 2"
   ]
  },
  {
   "cell_type": "code",
   "execution_count": 3,
   "metadata": {},
   "outputs": [],
   "source": [
    "import warnings\n",
    "warnings.filterwarnings(\"ignore\")\n",
    "\n",
    "def turn_on_logging():\n",
    "    warnings.resetwarnings()\n",
    "    import logging\n",
    "\n",
    "    # Configure logging\n",
    "    logging.basicConfig(\n",
    "        level=logging.INFO,  # Set logging level (DEBUG, INFO, WARNING, ERROR, CRITICAL)\n",
    "        format=\"%(asctime)s - %(name)s - %(levelname)s - %(message)s\",\n",
    "        handlers=[\n",
    "            logging.StreamHandler(sys.stdout)  # Log to notebook output\n",
    "        ]\n",
    "    )"
   ]
  },
  {
   "cell_type": "markdown",
   "metadata": {},
   "source": [
    "## Load Data - Last 3-years SPX data"
   ]
  },
  {
   "cell_type": "code",
   "execution_count": 4,
   "metadata": {},
   "outputs": [],
   "source": [
    "# Load the data\n",
    "data = load_optimization_data(Path(os.path.abspath(\".\") + \"/spx_data\"), 500)\n",
    "tickers = data['tickers']\n",
    "expected_returns = data['expected_returns']\n",
    "covariance_matrix = data['covariance_matrix']\n",
    "adv = data['adv']"
   ]
  },
  {
   "cell_type": "code",
   "execution_count": 5,
   "metadata": {},
   "outputs": [],
   "source": [
    "def show_results(weights, port_return, port_risk):\n",
    "    # Create results DataFrame\n",
    "    results_df = pd.DataFrame({\n",
    "        'Ticker': tickers,\n",
    "        'Weight': weights,\n",
    "        'Mean': expected_returns,\n",
    "        'Variance': np.diag(covariance_matrix),\n",
    "        'ADV': adv,\n",
    "        'Abs Weights': np.abs(weights)\n",
    "    }).sort_values('Abs Weights', ascending=False)\n",
    "    print(f\"Portfolio Return: {port_return:.2%}\")\n",
    "    print(f\"Portfolio Risk: {port_risk}\")\n",
    "    print(\"Optimal Portfolio:\")\n",
    "    # print(results_df.head(5))  # Show top holdings\n",
    "    return results_df"
   ]
  },
  {
   "cell_type": "markdown",
   "metadata": {},
   "source": [
    "## What is the maximum return possible?"
   ]
  },
  {
   "cell_type": "code",
   "execution_count": 6,
   "metadata": {},
   "outputs": [
    {
     "name": "stdout",
     "output_type": "stream",
     "text": [
      "Portfolio Return: 120178.43%\n",
      "Portfolio Risk: 98.99999957058135\n",
      "Optimal Portfolio:\n"
     ]
    },
    {
     "data": {
      "text/html": [
       "<div>\n",
       "<style scoped>\n",
       "    .dataframe tbody tr th:only-of-type {\n",
       "        vertical-align: middle;\n",
       "    }\n",
       "\n",
       "    .dataframe tbody tr th {\n",
       "        vertical-align: top;\n",
       "    }\n",
       "\n",
       "    .dataframe thead th {\n",
       "        text-align: right;\n",
       "    }\n",
       "</style>\n",
       "<table border=\"1\" class=\"dataframe\">\n",
       "  <thead>\n",
       "    <tr style=\"text-align: right;\">\n",
       "      <th></th>\n",
       "      <th>Ticker</th>\n",
       "      <th>Weight</th>\n",
       "      <th>Mean</th>\n",
       "      <th>Variance</th>\n",
       "      <th>ADV</th>\n",
       "      <th>Abs Weights</th>\n",
       "    </tr>\n",
       "  </thead>\n",
       "  <tbody>\n",
       "    <tr>\n",
       "      <th>163</th>\n",
       "      <td>LNT</td>\n",
       "      <td>-267.355006</td>\n",
       "      <td>0.084540</td>\n",
       "      <td>0.044385</td>\n",
       "      <td>8.060670e+07</td>\n",
       "      <td>267.355006</td>\n",
       "    </tr>\n",
       "    <tr>\n",
       "      <th>80</th>\n",
       "      <td>FI</td>\n",
       "      <td>253.455596</td>\n",
       "      <td>0.339374</td>\n",
       "      <td>0.055535</td>\n",
       "      <td>3.912301e+08</td>\n",
       "      <td>253.455596</td>\n",
       "    </tr>\n",
       "    <tr>\n",
       "      <th>462</th>\n",
       "      <td>PNR</td>\n",
       "      <td>251.247845</td>\n",
       "      <td>0.235138</td>\n",
       "      <td>0.083089</td>\n",
       "      <td>9.468150e+07</td>\n",
       "      <td>251.247845</td>\n",
       "    </tr>\n",
       "    <tr>\n",
       "      <th>422</th>\n",
       "      <td>WM</td>\n",
       "      <td>-247.743391</td>\n",
       "      <td>0.195182</td>\n",
       "      <td>0.036192</td>\n",
       "      <td>2.861186e+08</td>\n",
       "      <td>247.743391</td>\n",
       "    </tr>\n",
       "    <tr>\n",
       "      <th>294</th>\n",
       "      <td>CMS</td>\n",
       "      <td>239.863953</td>\n",
       "      <td>0.090047</td>\n",
       "      <td>0.040503</td>\n",
       "      <td>1.270666e+08</td>\n",
       "      <td>239.863953</td>\n",
       "    </tr>\n",
       "  </tbody>\n",
       "</table>\n",
       "</div>"
      ],
      "text/plain": [
       "    Ticker      Weight      Mean  Variance           ADV  Abs Weights\n",
       "163    LNT -267.355006  0.084540  0.044385  8.060670e+07   267.355006\n",
       "80      FI  253.455596  0.339374  0.055535  3.912301e+08   253.455596\n",
       "462    PNR  251.247845  0.235138  0.083089  9.468150e+07   251.247845\n",
       "422     WM -247.743391  0.195182  0.036192  2.861186e+08   247.743391\n",
       "294    CMS  239.863953  0.090047  0.040503  1.270666e+08   239.863953"
      ]
     },
     "execution_count": 6,
     "metadata": {},
     "output_type": "execute_result"
    }
   ],
   "source": [
    "optimiser = EquityOptimiser(\n",
    "    expected_returns=expected_returns,\n",
    "    covariance_matrix=covariance_matrix\n",
    ")\n",
    "\n",
    "# Run optimization\n",
    "weights, port_return, port_risk = optimiser.optimise_return_given_risk(99)\n",
    "show_results(weights, port_return, port_risk)[:5]"
   ]
  },
  {
   "cell_type": "markdown",
   "metadata": {},
   "source": [
    "Note the amazing returns, but also the insane risk and the weights!!"
   ]
  },
  {
   "cell_type": "markdown",
   "metadata": {},
   "source": [
    "### Let's go long only?"
   ]
  },
  {
   "cell_type": "code",
   "execution_count": 7,
   "metadata": {},
   "outputs": [
    {
     "name": "stdout",
     "output_type": "stream",
     "text": [
      "Portfolio Return: 134.02%\n",
      "Portfolio Risk: 0.9280380934884814\n",
      "Optimal Portfolio:\n"
     ]
    },
    {
     "data": {
      "text/html": [
       "<div>\n",
       "<style scoped>\n",
       "    .dataframe tbody tr th:only-of-type {\n",
       "        vertical-align: middle;\n",
       "    }\n",
       "\n",
       "    .dataframe tbody tr th {\n",
       "        vertical-align: top;\n",
       "    }\n",
       "\n",
       "    .dataframe thead th {\n",
       "        text-align: right;\n",
       "    }\n",
       "</style>\n",
       "<table border=\"1\" class=\"dataframe\">\n",
       "  <thead>\n",
       "    <tr style=\"text-align: right;\">\n",
       "      <th></th>\n",
       "      <th>Ticker</th>\n",
       "      <th>Weight</th>\n",
       "      <th>Mean</th>\n",
       "      <th>Variance</th>\n",
       "      <th>ADV</th>\n",
       "      <th>Abs Weights</th>\n",
       "    </tr>\n",
       "  </thead>\n",
       "  <tbody>\n",
       "    <tr>\n",
       "      <th>412</th>\n",
       "      <td>SMCI</td>\n",
       "      <td>1.000000e+00</td>\n",
       "      <td>1.340217</td>\n",
       "      <td>0.861255</td>\n",
       "      <td>2.092584e+09</td>\n",
       "      <td>1.000000e+00</td>\n",
       "    </tr>\n",
       "    <tr>\n",
       "      <th>172</th>\n",
       "      <td>PLTR</td>\n",
       "      <td>8.730444e-13</td>\n",
       "      <td>1.033747</td>\n",
       "      <td>0.487787</td>\n",
       "      <td>1.474923e+09</td>\n",
       "      <td>8.730444e-13</td>\n",
       "    </tr>\n",
       "    <tr>\n",
       "      <th>480</th>\n",
       "      <td>VST</td>\n",
       "      <td>4.971804e-13</td>\n",
       "      <td>0.834528</td>\n",
       "      <td>0.220911</td>\n",
       "      <td>3.360270e+08</td>\n",
       "      <td>4.971804e-13</td>\n",
       "    </tr>\n",
       "    <tr>\n",
       "      <th>94</th>\n",
       "      <td>CEG</td>\n",
       "      <td>4.423612e-13</td>\n",
       "      <td>0.792791</td>\n",
       "      <td>0.225693</td>\n",
       "      <td>3.732599e+08</td>\n",
       "      <td>4.423612e-13</td>\n",
       "    </tr>\n",
       "    <tr>\n",
       "      <th>417</th>\n",
       "      <td>NVDA</td>\n",
       "      <td>3.953787e-13</td>\n",
       "      <td>0.753022</td>\n",
       "      <td>0.308577</td>\n",
       "      <td>2.270026e+10</td>\n",
       "      <td>3.953787e-13</td>\n",
       "    </tr>\n",
       "  </tbody>\n",
       "</table>\n",
       "</div>"
      ],
      "text/plain": [
       "    Ticker        Weight      Mean  Variance           ADV   Abs Weights\n",
       "412   SMCI  1.000000e+00  1.340217  0.861255  2.092584e+09  1.000000e+00\n",
       "172   PLTR  8.730444e-13  1.033747  0.487787  1.474923e+09  8.730444e-13\n",
       "480    VST  4.971804e-13  0.834528  0.220911  3.360270e+08  4.971804e-13\n",
       "94     CEG  4.423612e-13  0.792791  0.225693  3.732599e+08  4.423612e-13\n",
       "417   NVDA  3.953787e-13  0.753022  0.308577  2.270026e+10  3.953787e-13"
      ]
     },
     "execution_count": 7,
     "metadata": {},
     "output_type": "execute_result"
    }
   ],
   "source": [
    "optimiser.set_weights_bound(0,1)\n",
    "weights, port_return, port_risk = optimiser.optimise_return_given_risk(99)\n",
    "show_results(weights, port_return, port_risk)[:5]"
   ]
  },
  {
   "cell_type": "markdown",
   "metadata": {},
   "source": [
    "Slightly worse than before, yet still good returns with an improved risk. Note the concentration in Top-3 stocks "
   ]
  },
  {
   "cell_type": "markdown",
   "metadata": {},
   "source": [
    "### Let's set top k limits"
   ]
  },
  {
   "cell_type": "code",
   "execution_count": 8,
   "metadata": {},
   "outputs": [
    {
     "name": "stdout",
     "output_type": "stream",
     "text": [
      "Portfolio Return: 96.16%\n",
      "Portfolio Risk: 0.5482490537499637\n",
      "Optimal Portfolio:\n"
     ]
    },
    {
     "data": {
      "text/html": [
       "<div>\n",
       "<style scoped>\n",
       "    .dataframe tbody tr th:only-of-type {\n",
       "        vertical-align: middle;\n",
       "    }\n",
       "\n",
       "    .dataframe tbody tr th {\n",
       "        vertical-align: top;\n",
       "    }\n",
       "\n",
       "    .dataframe thead th {\n",
       "        text-align: right;\n",
       "    }\n",
       "</style>\n",
       "<table border=\"1\" class=\"dataframe\">\n",
       "  <thead>\n",
       "    <tr style=\"text-align: right;\">\n",
       "      <th></th>\n",
       "      <th>Ticker</th>\n",
       "      <th>Weight</th>\n",
       "      <th>Mean</th>\n",
       "      <th>Variance</th>\n",
       "      <th>ADV</th>\n",
       "      <th>Abs Weights</th>\n",
       "    </tr>\n",
       "  </thead>\n",
       "  <tbody>\n",
       "    <tr>\n",
       "      <th>412</th>\n",
       "      <td>SMCI</td>\n",
       "      <td>0.527273</td>\n",
       "      <td>1.340217</td>\n",
       "      <td>0.861255</td>\n",
       "      <td>2.092584e+09</td>\n",
       "      <td>0.527273</td>\n",
       "    </tr>\n",
       "    <tr>\n",
       "      <th>172</th>\n",
       "      <td>PLTR</td>\n",
       "      <td>0.018182</td>\n",
       "      <td>1.033747</td>\n",
       "      <td>0.487787</td>\n",
       "      <td>1.474923e+09</td>\n",
       "      <td>0.018182</td>\n",
       "    </tr>\n",
       "    <tr>\n",
       "      <th>480</th>\n",
       "      <td>VST</td>\n",
       "      <td>0.018182</td>\n",
       "      <td>0.834528</td>\n",
       "      <td>0.220911</td>\n",
       "      <td>3.360270e+08</td>\n",
       "      <td>0.018182</td>\n",
       "    </tr>\n",
       "    <tr>\n",
       "      <th>94</th>\n",
       "      <td>CEG</td>\n",
       "      <td>0.018182</td>\n",
       "      <td>0.792791</td>\n",
       "      <td>0.225693</td>\n",
       "      <td>3.732599e+08</td>\n",
       "      <td>0.018182</td>\n",
       "    </tr>\n",
       "    <tr>\n",
       "      <th>417</th>\n",
       "      <td>NVDA</td>\n",
       "      <td>0.018182</td>\n",
       "      <td>0.753022</td>\n",
       "      <td>0.308577</td>\n",
       "      <td>2.270026e+10</td>\n",
       "      <td>0.018182</td>\n",
       "    </tr>\n",
       "  </tbody>\n",
       "</table>\n",
       "</div>"
      ],
      "text/plain": [
       "    Ticker    Weight      Mean  Variance           ADV  Abs Weights\n",
       "412   SMCI  0.527273  1.340217  0.861255  2.092584e+09     0.527273\n",
       "172   PLTR  0.018182  1.033747  0.487787  1.474923e+09     0.018182\n",
       "480    VST  0.018182  0.834528  0.220911  3.360270e+08     0.018182\n",
       "94     CEG  0.018182  0.792791  0.225693  3.732599e+08     0.018182\n",
       "417   NVDA  0.018182  0.753022  0.308577  2.270026e+10     0.018182"
      ]
     },
     "execution_count": 8,
     "metadata": {},
     "output_type": "execute_result"
    }
   ],
   "source": [
    "optimiser.set_top_k_limit(5, 0.6)\n",
    "weights, port_return, port_risk = optimiser.optimise_return_given_risk(99)\n",
    "show_results(weights, port_return, port_risk)[:5]"
   ]
  },
  {
   "cell_type": "markdown",
   "metadata": {},
   "source": [
    "Low return and risk, but a lot better with concentration"
   ]
  },
  {
   "cell_type": "markdown",
   "metadata": {},
   "source": [
    "### Let's try to find and plot the Efficient Frontier"
   ]
  },
  {
   "cell_type": "code",
   "execution_count": 9,
   "metadata": {},
   "outputs": [],
   "source": [
    "frontier_returns = np.array([])\n",
    "frontier_risk = np.array([])\n",
    "frontier_weights = np.array([[]])\n",
    "for min_return in np.linspace(0.12,0.25,num=14):\n",
    "    try:\n",
    "        optimiser = EquityOptimiser(\n",
    "            expected_returns=expected_returns,\n",
    "            covariance_matrix=covariance_matrix\n",
    "        )\n",
    "        port_weights, port_return, port_risk = optimiser.optimise_risk_given_return(min_return)\n",
    "        # print(f\"min_return: {min_return}, risk: {port_risk}, return: {port_return}\")\n",
    "        frontier_returns = np.append(frontier_returns, port_return)\n",
    "        frontier_risk = np.append(frontier_risk, port_risk)\n",
    "        frontier_weights = np.append(frontier_weights, port_weights)\n",
    "    except Exception as exc:\n",
    "        print(f\"skipping risk: {risk} because: \\n {exc}\")"
   ]
  },
  {
   "cell_type": "code",
   "execution_count": 10,
   "metadata": {},
   "outputs": [
    {
     "data": {
      "image/png": "[encoded data removed]",
      "text/plain": [
       "<Figure size 640x480 with 1 Axes>"
      ]
     },
     "metadata": {},
     "output_type": "display_data"
    }
   ],
   "source": [
    "# Plot efficient frontier\n",
    "plt.plot(\n",
    "    frontier_risk,\n",
    "    frontier_returns,\n",
    "    color=\"red\",\n",
    "    linestyle=\"-\",\n",
    "    linewidth=2,\n",
    "    label=\"Efficient Frontier\"\n",
    ")\n",
    "plt.xlabel(\"Risk (Standard Deviation)\", fontsize=12)\n",
    "plt.ylabel(\"Expected Return\", fontsize=12)\n",
    "plt.title(\"Efficient Frontier - TOP\", fontsize=14)\n",
    "plt.legend()\n",
    "plt.grid(True)"
   ]
  },
  {
   "cell_type": "markdown",
   "metadata": {},
   "source": [
    "## Bottom (for completeness)"
   ]
  },
  {
   "cell_type": "code",
   "execution_count": 11,
   "metadata": {},
   "outputs": [],
   "source": [
    "frontier_returns = np.array([])\n",
    "frontier_risk = np.array([])\n",
    "frontier_weights = np.array([[]])\n",
    "for max_return in np.linspace(0.05,0.18, num=10):\n",
    "    try:\n",
    "        optimiser = EquityOptimiser(\n",
    "            expected_returns=expected_returns,\n",
    "            covariance_matrix=covariance_matrix\n",
    "        )\n",
    "        optimiser.set_min_return(-5, max_return)\n",
    "        port_weights, port_return, port_risk = optimiser.optimise(return_f_=0)        \n",
    "        # print(f\"max_return: {max_return}, risk: {port_risk}, return: {port_return}\")\n",
    "        frontier_returns = np.append(frontier_returns, port_return)\n",
    "        frontier_risk = np.append(frontier_risk, port_risk)\n",
    "        frontier_weights = np.append(frontier_weights, port_weights)\n",
    "    except Exception as exc:\n",
    "        print(f\"skipping risk: {risk} because: \\n {exc}\")\n"
   ]
  },
  {
   "cell_type": "code",
   "execution_count": 12,
   "metadata": {},
   "outputs": [
    {
     "data": {
      "image/png": "[encoded data removed]",
      "text/plain": [
       "<Figure size 640x480 with 1 Axes>"
      ]
     },
     "metadata": {},
     "output_type": "display_data"
    }
   ],
   "source": [
    "# Plot efficient frontier\n",
    "plt.plot(\n",
    "    frontier_risk,\n",
    "    frontier_returns,\n",
    "    color=\"red\",\n",
    "    linestyle=\"-\",\n",
    "    linewidth=2,\n",
    "    label=\"Efficient Frontier\"\n",
    ")\n",
    "plt.xlabel(\"Risk (Standard Deviation)\", fontsize=12)\n",
    "plt.ylabel(\"Expected Return\", fontsize=12)\n",
    "plt.title(\"Efficient Frontier - BOTTOM\", fontsize=14)\n",
    "plt.legend()\n",
    "plt.grid(True)"
   ]
  },
  {
   "cell_type": "code",
   "execution_count": null,
   "metadata": {},
   "outputs": [],
   "source": []
  }
 ],
 "metadata": {
  "kernelspec": {
   "display_name": "eq_opt",
   "language": "python",
   "name": "eq_opt"
  },
  "language_info": {
   "codemirror_mode": {
    "name": "ipython",
    "version": 3
   },
   "file_extension": ".py",
   "mimetype": "text/x-python",
   "name": "python",
   "nbconvert_exporter": "python",
   "pygments_lexer": "ipython3",
   "version": "3.12.2"
  }
 },
 "nbformat": 4,
 "nbformat_minor": 4
}
