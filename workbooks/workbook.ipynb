{
 "cells": [
  {
   "cell_type": "code",
   "execution_count": 49,
   "metadata": {},
   "outputs": [],
   "source": [
    "import numpy as np\n",
    "import pandas as pd\n",
    "from pathlib import Path\n",
    "from datetime import datetime, timedelta\n",
    "import sys\n",
    "import os\n",
    "sys.path.append(os.path.abspath(\"..\"))  # Add project root to Python path\n",
    "from src.optimiser import EquityOptimiser\n",
    "from download_data import load_optimization_data"
   ]
  },
  {
   "cell_type": "markdown",
   "metadata": {},
   "source": [
    "## Load Data"
   ]
  },
  {
   "cell_type": "code",
   "execution_count": 52,
   "metadata": {},
   "outputs": [],
   "source": [
    "# Load the data\n",
    "data = load_optimization_data(Path(os.path.abspath(\".\") + \"/spx_data\"), 500)\n",
    "tickers = data['tickers']\n",
    "expected_returns = data['expected_returns']\n",
    "covariance_matrix = data['covariance_matrix']\n",
    "adv = data['adv']"
   ]
  },
  {
   "cell_type": "markdown",
   "metadata": {},
   "source": [
    "## Investor 1 - Loves Risk"
   ]
  },
  {
   "cell_type": "markdown",
   "metadata": {},
   "source": [
    "### Let's go YOLO!"
   ]
  },
  {
   "cell_type": "code",
   "execution_count": 53,
   "metadata": {},
   "outputs": [
    {
     "name": "stderr",
     "output_type": "stream",
     "text": [
      "/Users/chakshu/Desktop/sherwood/equity-optimiser/.venv/lib/python3.12/site-packages/cvxpy/reductions/solvers/solving_chain.py:245: UserWarning: You are solving a parameterized problem that is not DPP. Because the problem is not DPP, subsequent solves will not be faster than the first one. For more information, see the documentation on Disciplined Parametrized Programming, at https://www.cvxpy.org/tutorial/dpp/index.html\n",
      "  warnings.warn(DPP_ERROR_MSG)\n"
     ]
    }
   ],
   "source": [
    "optimiser = EquityOptimiser(\n",
    "    expected_returns=expected_returns,\n",
    "    covariance_matrix=covariance_matrix\n",
    ")\n",
    "\n",
    "# Run optimization\n",
    "weights, port_return, port_risk = optimiser.optimise_return_given_risk(99)\n",
    "\n",
    "# Create results DataFrame\n",
    "results_df = pd.DataFrame({\n",
    "    'Ticker': tickers,\n",
    "    'Weight': weights,\n",
    "    'Mean': expected_returns,\n",
    "    'Variance': np.diag(covariance_matrix),\n",
    "    'ADV': adv,\n",
    "    'Abs Weights': np.abs(weights)\n",
    "}).sort_values('Abs Weights', ascending=False)"
   ]
  },
  {
   "cell_type": "code",
   "execution_count": 54,
   "metadata": {},
   "outputs": [
    {
     "name": "stdout",
     "output_type": "stream",
     "text": [
      "Optimal Portfolio:\n",
      "    Ticker     Weight      Mean  Variance           ADV  Abs Weights\n",
      "163    LNT -16.443801  0.084540  0.044385  8.060670e+07    16.443801\n",
      "462    PNR  15.498584  0.235138  0.083089  9.468150e+07    15.498584\n",
      "80      FI  15.477927  0.339374  0.055535  3.912301e+08    15.477927\n",
      "422     WM -15.180482  0.195182  0.036192  2.861186e+08    15.180482\n",
      "294    CMS  14.782473  0.090047  0.040503  1.270666e+08    14.782473\n",
      "Portfolio Return: 7383.42%\n",
      "Portfolio Risk: 6.068928207345589\n"
     ]
    }
   ],
   "source": [
    "print(\"Optimal Portfolio:\")\n",
    "print(results_df.head(5))  # Show top holdings\n",
    "print(f\"Portfolio Return: {port_return:.2%}\")\n",
    "print(f\"Portfolio Risk: {port_risk}\")"
   ]
  },
  {
   "cell_type": "markdown",
   "metadata": {},
   "source": [
    "### Those were amazing returns, but crazy risk and weights!!"
   ]
  },
  {
   "cell_type": "markdown",
   "metadata": {},
   "source": [
    "### Maybe let's go long only"
   ]
  },
  {
   "cell_type": "code",
   "execution_count": 55,
   "metadata": {},
   "outputs": [
    {
     "name": "stderr",
     "output_type": "stream",
     "text": [
      "/Users/chakshu/Desktop/sherwood/equity-optimiser/.venv/lib/python3.12/site-packages/cvxpy/reductions/solvers/solving_chain.py:245: UserWarning: You are solving a parameterized problem that is not DPP. Because the problem is not DPP, subsequent solves will not be faster than the first one. For more information, see the documentation on Disciplined Parametrized Programming, at https://www.cvxpy.org/tutorial/dpp/index.html\n",
      "  warnings.warn(DPP_ERROR_MSG)\n"
     ]
    },
    {
     "name": "stdout",
     "output_type": "stream",
     "text": [
      "Optimal Portfolio:\n",
      "    Ticker        Weight      Mean  Variance           ADV   Abs Weights\n",
      "412   SMCI  3.478677e-01  1.340217  0.861255  2.092584e+09  3.478677e-01\n",
      "480    VST  3.144219e-01  0.834528  0.220911  3.360270e+08  3.144219e-01\n",
      "172   PLTR  3.003052e-01  1.033747  0.487787  1.474923e+09  3.003052e-01\n",
      "94     CEG  3.740524e-02  0.792791  0.225693  3.732599e+08  3.740524e-02\n",
      "13     TPL  1.486276e-10  0.599806  0.202519  9.011558e+07  1.486276e-10\n",
      "Portfolio Return: 106.87%\n",
      "Portfolio Risk: 0.4972155106364174\n"
     ]
    }
   ],
   "source": [
    "optimiser.set_weights_bound(0,1)\n",
    "weights, port_return, port_risk = optimiser.optimise_return_given_risk(99)\n",
    "# Create results DataFrame\n",
    "results_df = pd.DataFrame({\n",
    "    'Ticker': tickers,\n",
    "    'Weight': weights,\n",
    "    'Mean': expected_returns,\n",
    "    'Variance': np.diag(covariance_matrix),\n",
    "    'ADV': adv,\n",
    "    'Abs Weights': np.abs(weights)\n",
    "}).sort_values('Abs Weights', ascending=False)\n",
    "print(\"Optimal Portfolio:\")\n",
    "print(results_df.head(5))  # Show top holdings\n",
    "print(f\"Portfolio Return: {port_return:.2%}\")\n",
    "print(f\"Portfolio Risk: {port_risk}\")"
   ]
  },
  {
   "cell_type": "markdown",
   "metadata": {},
   "source": [
    "### Ah slightly less but still good returns, a bit better with risk\n",
    "### But Top-3 rules "
   ]
  },
  {
   "cell_type": "markdown",
   "metadata": {},
   "source": [
    "### Maybe limit top concentration"
   ]
  },
  {
   "cell_type": "code",
   "execution_count": 56,
   "metadata": {},
   "outputs": [],
   "source": [
    "optimiser.set_top_k_limit(5, 0.6)"
   ]
  },
  {
   "cell_type": "code",
   "execution_count": 57,
   "metadata": {},
   "outputs": [
    {
     "name": "stderr",
     "output_type": "stream",
     "text": [
      "/Users/chakshu/Desktop/sherwood/equity-optimiser/.venv/lib/python3.12/site-packages/cvxpy/reductions/solvers/solving_chain.py:245: UserWarning: You are solving a parameterized problem that is not DPP. Because the problem is not DPP, subsequent solves will not be faster than the first one. For more information, see the documentation on Disciplined Parametrized Programming, at https://www.cvxpy.org/tutorial/dpp/index.html\n",
      "  warnings.warn(DPP_ERROR_MSG)\n"
     ]
    },
    {
     "name": "stdout",
     "output_type": "stream",
     "text": [
      "Optimal Portfolio:\n",
      "    Ticker    Weight      Mean  Variance           ADV  Abs Weights\n",
      "412   SMCI  0.286024  1.340217  0.861255  2.092584e+09     0.286024\n",
      "172   PLTR  0.146626  1.033747  0.487787  1.474923e+09     0.146626\n",
      "480    VST  0.055783  0.834528  0.220911  3.360270e+08     0.055783\n",
      "94     CEG  0.055783  0.792791  0.225693  3.732599e+08     0.055783\n",
      "13     TPL  0.055783  0.599806  0.202519  9.011558e+07     0.055783\n",
      "Portfolio Return: 88.39%\n",
      "Portfolio Risk: 0.3977762113058913\n"
     ]
    }
   ],
   "source": [
    "weights, port_return, port_risk = optimiser.optimise_return_given_risk(99)\n",
    "# Create results DataFrame\n",
    "results_df = pd.DataFrame({\n",
    "    'Ticker': tickers,\n",
    "    'Weight': weights,\n",
    "    'Mean': expected_returns,\n",
    "    'Variance': np.diag(covariance_matrix),\n",
    "    'ADV': adv,\n",
    "    'Abs Weights': np.abs(weights)\n",
    "}).sort_values('Abs Weights', ascending=False)\n",
    "print(\"Optimal Portfolio:\")\n",
    "print(results_df.head(5))  # Show top holdings\n",
    "print(f\"Portfolio Return: {port_return:.2%}\")\n",
    "print(f\"Portfolio Risk: {port_risk}\")"
   ]
  },
  {
   "cell_type": "markdown",
   "metadata": {},
   "source": [
    "### Lower return and risk, but better with concentration"
   ]
  },
  {
   "cell_type": "code",
   "execution_count": null,
   "metadata": {},
   "outputs": [],
   "source": []
  }
 ],
 "metadata": {
  "kernelspec": {
   "display_name": ".venv",
   "language": "python",
   "name": "python3"
  },
  "language_info": {
   "codemirror_mode": {
    "name": "ipython",
    "version": 3
   },
   "file_extension": ".py",
   "mimetype": "text/x-python",
   "name": "python",
   "nbconvert_exporter": "python",
   "pygments_lexer": "ipython3",
   "version": "3.12.2"
  }
 },
 "nbformat": 4,
 "nbformat_minor": 2
}
